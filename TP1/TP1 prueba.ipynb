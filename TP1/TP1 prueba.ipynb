{
 "cells": [
  {
   "cell_type": "code",
   "execution_count": 5,
   "id": "4528039a-9f49-4e16-a0f2-8b4deddbf7af",
   "metadata": {},
   "outputs": [],
   "source": [
    "import pandas as pd\n",
    "\n",
    "import os\n",
    "\n",
    "os.getcwd()\n",
    "\n",
    "os.chdir(\"/Users/rosarionamur/Desktop/Big Data/TP1\")"
   ]
  },
  {
   "cell_type": "code",
   "execution_count": null,
   "id": "4706187b-7644-40d3-95af-e5dae95eccd2",
   "metadata": {},
   "outputs": [],
   "source": [
    "#Abro y modifico la base de excel de 2024"
   ]
  },
  {
   "cell_type": "code",
   "execution_count": 7,
   "id": "96601b0d-97f1-4777-9b6c-98d47434edb5",
   "metadata": {},
   "outputs": [
    {
     "name": "stdout",
     "output_type": "stream",
     "text": [
      "                          CODUSU  ANO4  TRIMESTRE  NRO_HOGAR  COMPONENTE  H15  \\\n",
      "0  TQRMNOSUWHLKMUCDEIJAH00855260  2024          1          1           1    1   \n",
      "1  TQRMNOSUWHLKMUCDEIJAH00855260  2024          1          1           2    1   \n",
      "2  TQRMNOSUWHLKMUCDEIJAH00855260  2024          1          1           3    1   \n",
      "3  TQSMNORWVHLLKQCDEIJAH00856914  2024          1          1           1    1   \n",
      "4  TQRMNOPQQHLOLRCDEIJAH00855133  2024          1          1           1    1   \n",
      "\n",
      "   REGION MAS_500  AGLOMERADO  PONDERA  ...  PDECIFR  ADECIFR      IPCF  \\\n",
      "0       1       S          33     1810  ...      NaN       12       0.0   \n",
      "1       1       S          33     1810  ...      NaN       12       0.0   \n",
      "2       1       S          33     1810  ...      NaN       12       0.0   \n",
      "3       1       S          33     2368  ...      NaN        6  500000.0   \n",
      "4       1       S          33     1223  ...      NaN       12       0.0   \n",
      "\n",
      "   DECCFR  IDECCFR  RDECCFR  GDECCFR  PDECCFR  ADECCFR  PONDIH  \n",
      "0      12      NaN       12       12      NaN       12       0  \n",
      "1      12      NaN       12       12      NaN       12       0  \n",
      "2      12      NaN       12       12      NaN       12       0  \n",
      "3       9      NaN        9        9      NaN        9    3324  \n",
      "4      12      NaN       12       12      NaN       12       0  \n",
      "\n",
      "[5 rows x 177 columns]\n",
      "[33 32]\n"
     ]
    }
   ],
   "source": [
    "Base2024= pd.read_excel(\"usu_individual_T124.xlsx\")\n",
    "\n",
    "\n",
    "print(Base2024.head())\n",
    "\n",
    "Base2024 = Base2024[Base2024[\"AGLOMERADO\"].isin([32, 33])]\n",
    "\n",
    "\n",
    "print ( Base2024 [\"AGLOMERADO\"].unique())\n",
    "\n",
    "Base2024 = Base2024[Base2024[\"AGLOMERADO\"].isin([32, 33])]\n",
    "\n",
    "Base2024.to_excel(\"usu_individual_T124.xlsx\", index=False)\n"
   ]
  },
  {
   "cell_type": "code",
   "execution_count": 11,
   "id": "c50a64d6-b911-4ead-8922-2d1520831f41",
   "metadata": {},
   "outputs": [
    {
     "name": "stdout",
     "output_type": "stream",
     "text": [
      "Columns: Index(['CODUSU', 'ANO4', 'TRIMESTRE', 'NRO_HOGAR', 'COMPONENTE', 'H15',\n",
      "       'REGION', 'MAS_500', 'AGLOMERADO', 'PONDERA',\n",
      "       ...\n",
      "       'PDECIFR', 'ADECIFR', 'IPCF', 'DECCFR', 'IDECCFR', 'RDECCFR', 'GDECCFR',\n",
      "       'PDECCFR', 'ADECCFR', 'PONDIH'],\n",
      "      dtype='object', length=177)\n"
     ]
    }
   ],
   "source": [
    "print('Columns:', Base2024.columns)"
   ]
  },
  {
   "cell_type": "code",
   "execution_count": null,
   "id": "1929df46-b763-4f35-9cf8-d80f61d82ed8",
   "metadata": {},
   "outputs": [],
   "source": [
    "#Abro y modifico la base dta de 2004"
   ]
  },
  {
   "cell_type": "code",
   "execution_count": 19,
   "id": "ecc611a4-0aba-46b9-b32d-75c69cd01346",
   "metadata": {},
   "outputs": [],
   "source": [
    "Base2004 = pd.read_stata(\"Individual_t104.dta\")\n",
    "\n",
    "\n",
    "Base2004 = Base2004[Base2004[\"aglomerado\"].isin([\"Ciudad de Buenos Aires\", \"Partidos del GBA\"])]"
   ]
  },
  {
   "cell_type": "code",
   "execution_count": 29,
   "id": "ca44adb1-89a1-4cbf-b717-9eaff4d1c08b",
   "metadata": {},
   "outputs": [
    {
     "name": "stdout",
     "output_type": "stream",
     "text": [
      "Columns: Index(['CODUSU', 'nro_hogar', 'componente', 'h15', 'ano4', 'trimestre',\n",
      "       'region', 'mas_500', 'aglomerado', 'pondera',\n",
      "       ...\n",
      "       'deccfr', 'ideccfr', 'rdeccfr', 'gdeccfr', 'pdeccfr', 'adeccfr',\n",
      "       'pj1_1', 'pj2_1', 'pj3_1', 'idimpp'],\n",
      "      dtype='object', length=176)\n"
     ]
    }
   ],
   "source": [
    "print('Columns:', Base2004.columns)"
   ]
  },
  {
   "cell_type": "code",
   "execution_count": 27,
   "id": "3b4ea397-167f-4b96-914a-11e223c72616",
   "metadata": {},
   "outputs": [],
   "source": [
    "import numpy as np\n",
    "\n",
    "Base2004[\"aglomerado\"] = np.where(\n",
    "    Base2004[\"aglomerado\"] == \"Ciudad de Buenos Aires\", 32, \n",
    "    np.where(Base2004[\"aglomerado\"] == \"Partidos del GBA\", 33, Base2004[\"aglomerado\"])\n",
    ")\n",
    "\n",
    "Base2004.to_excel(\"Individual_t104.xlsx\", index=False)\n"
   ]
  },
  {
   "cell_type": "code",
   "execution_count": 33,
   "id": "003ce85e-d0a6-4324-ab69-dbf071594201",
   "metadata": {},
   "outputs": [
    {
     "name": "stdout",
     "output_type": "stream",
     "text": [
      "Columns: Index(['CODUSU', 'nro_hogar', 'componente', 'h15', 'ano4', 'trimestre',\n",
      "       'region', 'mas_500', 'AGLOMERADO', 'pondera',\n",
      "       ...\n",
      "       'deccfr', 'ideccfr', 'rdeccfr', 'gdeccfr', 'pdeccfr', 'adeccfr',\n",
      "       'pj1_1', 'pj2_1', 'pj3_1', 'idimpp'],\n",
      "      dtype='object', length=176)\n"
     ]
    }
   ],
   "source": [
    "Base2004.rename(columns={\"aglomerado\": \"AGLOMERADO\"}, inplace=True)\n",
    "Base2004.rename(columns={\"ano4\": \"ANO4\"}, inplace=True)\n",
    "print('Columns:', Base2004.columns)\n"
   ]
  }
 ],
 "metadata": {
  "kernelspec": {
   "display_name": "Python [conda env:base] *",
   "language": "python",
   "name": "conda-base-py"
  },
  "language_info": {
   "codemirror_mode": {
    "name": "ipython",
    "version": 3
   },
   "file_extension": ".py",
   "mimetype": "text/x-python",
   "name": "python",
   "nbconvert_exporter": "python",
   "pygments_lexer": "ipython3",
   "version": "3.12.7"
  }
 },
 "nbformat": 4,
 "nbformat_minor": 5
}
